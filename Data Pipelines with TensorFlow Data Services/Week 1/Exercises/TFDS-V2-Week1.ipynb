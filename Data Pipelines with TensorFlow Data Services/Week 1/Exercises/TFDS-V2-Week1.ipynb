{
  "nbformat": 4,
  "nbformat_minor": 0,
  "metadata": {
    "coursera": {
      "schema_names": [
        "tensorflow-datasets-w1"
      ]
    },
    "kernelspec": {
      "display_name": "Python 3",
      "language": "python",
      "name": "python3"
    },
    "language_info": {
      "codemirror_mode": {
        "name": "ipython",
        "version": 3
      },
      "file_extension": ".py",
      "mimetype": "text/x-python",
      "name": "python",
      "nbconvert_exporter": "python",
      "pygments_lexer": "ipython3",
      "version": "3.6.9"
    },
    "colab": {
      "name": "TFDS-V2-Week1.ipynb",
      "provenance": [],
      "collapsed_sections": []
    }
  },
  "cells": [
    {
      "cell_type": "markdown",
      "metadata": {
        "id": "view-in-github"
      },
      "source": [
        "# Rock, Paper, Scissors\n",
        "\n",
        "In this week’s exercise, you will use [TFDS module](https://www.tensorflow.org/datasets/api_docs/python/tfds) for performing extract, transform and load (ETL) tasks on the [Rock-Paper-Scissors dataset](https://www.tensorflow.org/datasets/catalog/rock_paper_scissors). \n",
        "\n",
        "Upon completion of the exercise, you will have\n",
        "\n",
        "- Loaded the dataset\n",
        "- Transformed and preprocessed it \n",
        "- Defined a simple CNN model for image classification which can be trained easily\n",
        "\n"
      ]
    },
    {
      "cell_type": "code",
      "metadata": {
        "id": "zX4Kg8DUTKWO"
      },
      "source": [
        "### Step 0 - Setup\n",
        "\n",
        "**Note** : The assignment uses TF version 2 so if you run this notebook on TF 1.x, some things might not work."
      ],
      "execution_count": null,
      "outputs": []
    },
    {
      "cell_type": "code",
      "metadata": {
        "id": "B580sluZmIA8"
      },
      "source": [
        "from os import getcwd\n",
        "\n",
        "import tensorflow as tf\n",
        "import tensorflow_datasets as tfds"
      ],
      "execution_count": null,
      "outputs": []
    },
    {
      "cell_type": "markdown",
      "metadata": {
        "id": "nK9l6tKfmIA8"
      },
      "source": [
        "### Step 1 - One-Hot Encoding \n",
        "\n",
        "Remember to one hot encode the labels as you have 3 classes - Rock, Paper and Scissors.\n",
        "You can use Tensorflow's one_hot function ([`tf.one_hot`](https://www.tensorflow.org/api_docs/python/tf/one_hot)) to convert categorical variables to one-hot vectors.\n",
        "\n",
        "Useful parameters - \n",
        "1. `indices` - A tensor containing all indices\n",
        "2. `depth` - A scalar defining the depth of the one hot dimension.\n"
      ]
    },
    {
      "cell_type": "code",
      "metadata": {
        "id": "67HQ9dyimIA9",
        "outputId": "a33a8632-c779-4ec2-e927-b1d66c7d7853"
      },
      "source": [
        "# EXERCISE: encoding the labels using your own function for one-hot encoding\n",
        "\n",
        "def my_one_hot(feature, label):\n",
        "    # Encode the labels to one-hot using tf.one_hot with depth equal to total \n",
        "    # number of classes here which are rock, paper and scissors\n",
        "    \n",
        "    one_hot = tf.one_hot(label, 3)# YOUR CODE HERE\n",
        "    return feature, one_hot\n",
        "\n",
        "# TESTING THE FUNCTION \n",
        "_,one_hot = my_one_hot([\"a\",\"b\",\"c\",\"a\"],[1,2,3,1])\n",
        "print(one_hot)\n"
      ],
      "execution_count": null,
      "outputs": [
        {
          "output_type": "stream",
          "text": [
            "tf.Tensor(\n",
            "[[0. 1. 0.]\n",
            " [0. 0. 1.]\n",
            " [0. 0. 0.]\n",
            " [0. 1. 0.]], shape=(4, 3), dtype=float32)\n"
          ],
          "name": "stdout"
        }
      ]
    },
    {
      "cell_type": "markdown",
      "metadata": {
        "id": "-A8ZQpEomIA-"
      },
      "source": [
        "#### Expected Output\n",
        "```\n",
        "tf.Tensor(\n",
        "[[0. 1. 0.]\n",
        " [0. 0. 1.]\n",
        " [0. 0. 0.]\n",
        " [0. 1. 0.]], shape=(4, 3), dtype=float32)\n",
        " ```"
      ]
    },
    {
      "cell_type": "markdown",
      "metadata": {
        "id": "bFCPmKo-mIA-"
      },
      "source": [
        "### Step 2 - Loading Dataset\n",
        "\n",
        "You will be using [`tfds.load()`](https://www.tensorflow.org/datasets/api_docs/python/tfds/load)] method to load the dataset. The dataset is already downloaded and unzipped for you in the data folder but if you are running on your local machine and do not have the dataset downloaded, it will first download and save the dataset to your tensorflow directory and then load it.\n",
        "\n",
        "Useful parameters -\n",
        "1. `split` - Which split of the data to load (e.g. 'train', 'test' ['train', 'test'], 'train[80%:]',...)\n",
        "\n",
        "2. `data_dir` - Directory to read/write data. Defaults to the value of the environment variable _TFDS_DATA_DIR_, if set, otherwise falls back to \"~/tensorflow_datasets\"\n",
        "\n",
        "3. `as_supervised`- If True, the returned tf.data.Dataset will have a 2-tuple structure (input, label) according to builder.info.supervised_keys. If False the default, the returned tf.data.Dataset will have a dictionary with all the features\n",
        "\n",
        "**Note** - The`rock_paper_scissors:3.*.*` dataset is already downloaded for you so if you specify the major version thisway while loading, it will try to find the dataset from the directory and load it. If none is present or the current dataset has been upgraded to a new major version, then it will try to download the new dataset to the directory."
      ]
    },
    {
      "cell_type": "code",
      "metadata": {
        "id": "MMOFW18smIA_",
        "outputId": "67f00fb7-0e5b-43fa-e2a6-5bc8ba26d060"
      },
      "source": [
        "# EXERCISE: Loading the rock, paper and scissors train and test dataset using tfds.load. \n",
        "\n",
        "# Use data_dir=filepath as the dataset is already downloaded for you\n",
        "\n",
        "filePath = f\"{getcwd()}/data\"\n",
        "\n",
        "train_data = tfds.load(name='rock_paper_scissors:3.*.*', data_dir=filePath, as_supervised=True, split='train',)\n",
        "val_data = tfds.load(name='rock_paper_scissors:3.*.*', data_dir=filePath, as_supervised=True, split='test',)\n",
        "\n",
        "# Testing train_data and val_data if loaded correctly\n",
        "    \n",
        "train_data_len = len(list(train_data))\n",
        "val_data_len = len(list(val_data))\n",
        "\n",
        "print(train_data_len)\n",
        "print(val_data_len)"
      ],
      "execution_count": null,
      "outputs": [
        {
          "output_type": "stream",
          "text": [
            "2520\n",
            "372\n"
          ],
          "name": "stdout"
        }
      ]
    },
    {
      "cell_type": "markdown",
      "metadata": {
        "id": "QLTpetukmIBA"
      },
      "source": [
        "#### Expected Output\n",
        "```\n",
        "2520\n",
        "372\n",
        " ```"
      ]
    },
    {
      "cell_type": "markdown",
      "metadata": {
        "id": "3FPvQU6RmIBA"
      },
      "source": [
        "### Step 3 - Mapping one hot encode function to dataset\n",
        "\n",
        "You will apply the `my_one_hot()` encoding function to the train and validation data using [`map`](https://www.tensorflow.org/api_docs/python/tf/data/Dataset#map) function. It will apply the custom function to each element of the  dataset and returns a new dataset containing the transformed elements in the same order as they appeared in the input."
      ]
    },
    {
      "cell_type": "code",
      "metadata": {
        "id": "uGIaFYKFmIBA",
        "outputId": "d0d0d1a4-66c2-4f28-976f-0e860db156b5"
      },
      "source": [
        "# EXERCISE: one-hot encode the train and validation labels using the function you defined earlier\n",
        "\n",
        "# HINT - use map function https://www.tensorflow.org/api_docs/python/tf/data/Dataset#map\n",
        "\n",
        "train_data = train_data.map(my_one_hot)# YOUR CODE HERE\n",
        "val_data = val_data.map(my_one_hot)# YOUR CODE HERE\n",
        "\n",
        "print(type(train_data))"
      ],
      "execution_count": null,
      "outputs": [
        {
          "output_type": "stream",
          "text": [
            "<class 'tensorflow.python.data.ops.dataset_ops.MapDataset'>\n"
          ],
          "name": "stdout"
        }
      ]
    },
    {
      "cell_type": "markdown",
      "metadata": {
        "id": "BzHP3EdemIBB"
      },
      "source": [
        "#### Expected Output\n",
        "```\n",
        "<class 'tensorflow.python.data.ops.dataset_ops.MapDataset'>\n",
        " ```"
      ]
    },
    {
      "cell_type": "markdown",
      "metadata": {
        "id": "F9pIYaCLmIBB"
      },
      "source": [
        "### Step 4 - Exploring dataset metadata\n",
        "\n",
        "Do remember that [`tfds.load()`](https://www.tensorflow.org/datasets/api_docs/python/tfds/load) has a parameter called `with_info` which if True will return the tuple (tf.data.Dataset, tfds.core.DatasetInfo) containing the info associated with the builder."
      ]
    },
    {
      "cell_type": "code",
      "metadata": {
        "id": "m7VPI-JVmIBB",
        "outputId": "a68c28d0-4568-41a5-f448-23e0fa144322"
      },
      "source": [
        "# EXERCISE: Check the information about the dataset to see the dataset image shape\n",
        "\n",
        "# HINT: Use with_info=True and data_dir\n",
        "_,info = tfds.load('rock_paper_scissors', data_dir=filePath, with_info=True)\n",
        "\n",
        "# DO NOT EDIT THIS\n",
        "print(info.features['image'].shape)"
      ],
      "execution_count": null,
      "outputs": [
        {
          "output_type": "stream",
          "text": [
            "(300, 300, 3)\n"
          ],
          "name": "stdout"
        }
      ]
    },
    {
      "cell_type": "markdown",
      "metadata": {
        "id": "ji1YE_9MmIBC"
      },
      "source": [
        "## Expected Output\n",
        "```\n",
        "(300, 300, 3)\n",
        "\n",
        " ```"
      ]
    },
    {
      "cell_type": "markdown",
      "metadata": {
        "id": "JsWtzHlcmIBC"
      },
      "source": [
        "### Step 5 - Training your simple CNN classifier\n",
        "\n",
        "Now you will define a simple 1-layer CNN model which will learn to classify the images into rock, paper and scissor!\n"
      ]
    },
    {
      "cell_type": "code",
      "metadata": {
        "id": "iSq4t32ZHHpt",
        "outputId": "e377edf0-9a63-4c4e-a65f-3e8fa3cc3a92"
      },
      "source": [
        "# EXERCISE: Train a simple CNN model on the dataset\n",
        "\n",
        "train_batches = train_data.shuffle(100).batch(10)\n",
        "validation_batches = val_data.batch(32)\n",
        "\n",
        "model = tf.keras.models.Sequential([\n",
        "    tf.keras.layers.Conv2D(16, (3, 3), activation='relu', input_shape=(300, 300, 3)),# YOUR CODE HERE),                       \n",
        "    # YOUR CODE HERE - Add a maxpool2d layer with kernel (2,2) \n",
        "    tf.keras.layers.MaxPooling2D(2, 2),\n",
        "    # YOUR CODE HERE - Add a flatten layer\n",
        "    tf.keras.layers.Flatten(),\n",
        "    tf.keras.layers.Dense(3, activation='softmax')  # Remember there are 3 classes to classify and to use proper activation\n",
        "])\n",
        "\n",
        "model.summary()\n"
      ],
      "execution_count": null,
      "outputs": [
        {
          "output_type": "stream",
          "text": [
            "Model: \"sequential\"\n",
            "_________________________________________________________________\n",
            "Layer (type)                 Output Shape              Param #   \n",
            "=================================================================\n",
            "conv2d (Conv2D)              (None, 298, 298, 16)      448       \n",
            "_________________________________________________________________\n",
            "max_pooling2d (MaxPooling2D) (None, 149, 149, 16)      0         \n",
            "_________________________________________________________________\n",
            "flatten (Flatten)            (None, 355216)            0         \n",
            "_________________________________________________________________\n",
            "dense (Dense)                (None, 3)                 1065651   \n",
            "=================================================================\n",
            "Total params: 1,066,099\n",
            "Trainable params: 1,066,099\n",
            "Non-trainable params: 0\n",
            "_________________________________________________________________\n"
          ],
          "name": "stdout"
        }
      ]
    },
    {
      "cell_type": "markdown",
      "metadata": {
        "id": "2kJ2eczCmIBD"
      },
      "source": [
        "# Submission Instructions"
      ]
    },
    {
      "cell_type": "code",
      "metadata": {
        "id": "aXLl5iT4mIBD"
      },
      "source": [
        "# Now click the 'Submit Assignment' button above."
      ],
      "execution_count": null,
      "outputs": []
    },
    {
      "cell_type": "markdown",
      "metadata": {
        "id": "PVRJ3X2BmIBD"
      },
      "source": [
        "### [Optional] Step 6 - Evaluation\n",
        "\n",
        "***Remember to submit your assignment before you uncomment and run the next cell.***"
      ]
    },
    {
      "cell_type": "code",
      "metadata": {
        "id": "ykUfVUUImIBD",
        "outputId": "b886971c-10db-4f70-a104-6e7c41798ea1"
      },
      "source": [
        "# OPTIONAL EXERCISE: Compile and fit your model - use categorical loss and choose optimizer as Adam\n",
        "\n",
        "EPOCH = 3\n",
        "\n",
        "# You should get decent enough training accuracy in 3-4 epochs itself as this one layer model will heavily overfit\n",
        "\n",
        "model.compile(optimizer='adam', loss='categorical_crossentropy', metrics=['accuracy'])\n",
        "\n",
        "history = model.fit(train_batches, epochs= EPOCH , validation_data=validation_batches, validation_steps=1, verbose=2)\n",
        "    \n",
        "print(\"Final Training Accuracy:-\",history.history['accuracy'][-1])\n",
        "print(\"Final Validation Accuracy:-\",history.history['val_accuracy'][-1])"
      ],
      "execution_count": null,
      "outputs": [
        {
          "output_type": "stream",
          "text": [
            "Epoch 1/3\n",
            "252/252 - 9s - loss: 1106.4479 - accuracy: 0.8151 - val_loss: 30.0010 - val_accuracy: 0.6562\n",
            "Epoch 2/3\n",
            "252/252 - 6s - loss: 0.1614 - accuracy: 0.9925 - val_loss: 49.1450 - val_accuracy: 0.5938\n",
            "Epoch 3/3\n",
            "252/252 - 6s - loss: 0.2281 - accuracy: 0.9925 - val_loss: 28.8831 - val_accuracy: 0.5625\n",
            "Final Training Accuracy:- 0.9924603\n",
            "Final Validation Accuracy:- 0.5625\n"
          ],
          "name": "stdout"
        }
      ]
    },
    {
      "cell_type": "markdown",
      "metadata": {
        "id": "BNXCD1knmIBE"
      },
      "source": [
        "# When you're done or would like to take a break, please run the two cells below to save your work and close the Notebook. This frees up resources for your fellow learners."
      ]
    },
    {
      "cell_type": "code",
      "metadata": {
        "id": "gyxrJoDXmIBE",
        "outputId": "c625f9b8-80bb-4cc2-9288-9dde0a1ddb2b"
      },
      "source": [
        "%%javascript\n",
        "<!-- Save the notebook -->\n",
        "IPython.notebook.save_checkpoint();"
      ],
      "execution_count": null,
      "outputs": [
        {
          "output_type": "display_data",
          "data": {
            "application/javascript": [
              "<!-- Save the notebook -->\n",
              "IPython.notebook.save_checkpoint();\n"
            ],
            "text/plain": [
              "<IPython.core.display.Javascript object>"
            ]
          },
          "metadata": {
            "tags": []
          }
        }
      ]
    },
    {
      "cell_type": "code",
      "metadata": {
        "id": "a3R6kJ7-mIBE",
        "outputId": "943c63fc-f63a-418c-f6a1-6ce0861e99f8"
      },
      "source": [
        "%%javascript\n",
        "<!-- Shutdown and close the notebook -->\n",
        "window.onbeforeunload = null\n",
        "window.close();\n",
        "IPython.notebook.session.delete();"
      ],
      "execution_count": null,
      "outputs": [
        {
          "output_type": "display_data",
          "data": {
            "application/javascript": [
              "<!-- Shutdown and close the notebook -->\n",
              "window.onbeforeunload = null\n",
              "window.close();\n",
              "IPython.notebook.session.delete();\n"
            ],
            "text/plain": [
              "<IPython.core.display.Javascript object>"
            ]
          },
          "metadata": {
            "tags": []
          }
        }
      ]
    },
    {
      "cell_type": "code",
      "metadata": {
        "id": "br3HKuJ6mIBF"
      },
      "source": [
        ""
      ],
      "execution_count": null,
      "outputs": []
    }
  ]
}